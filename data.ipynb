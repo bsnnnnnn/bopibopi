{
 "cells": [
  {
   "cell_type": "markdown",
   "metadata": {},
   "source": [
    "### DB 데이터 insert"
   ]
  },
  {
   "cell_type": "code",
   "execution_count": 1,
   "metadata": {},
   "outputs": [],
   "source": [
    "# 환경설정\n",
    "import os, sys\n",
    "# PWD = os.getenv('PWD')\n",
    "PWD = os.path.abspath('.')\n",
    "\n",
    "PROJ_MISSING_MSG = \"\"\"Set an enviroment variable:\\n\n",
    "`DJANGO_PROJECT=your_project_name`\\n\n",
    "or call:\\n\n",
    "`init_django(your_project_name)`\n",
    "\"\"\"\n",
    "\n",
    "def init_django(project_name=None):\n",
    "    os.chdir(PWD)\n",
    "    project_name = project_name or os.environ.get('DJANGO_PROJECT') or None\n",
    "    if project_name == None:\n",
    "        raise Exception(PROJ_MISSING_MSG)\n",
    "    sys.path.insert(0, os.getenv('PWD'))\n",
    "    os.environ.setdefault('DJANGO_SETTINGS_MODULE', f'{project_name}.settings')\n",
    "    os.environ[\"DJANGO_ALLOW_ASYNC_UNSAFE\"] = \"true\"\n",
    "    import django\n",
    "    django.setup()"
   ]
  },
  {
   "cell_type": "code",
   "execution_count": 2,
   "metadata": {},
   "outputs": [],
   "source": [
    "init_django('bopibopi') #project name"
   ]
  },
  {
   "cell_type": "markdown",
   "metadata": {},
   "source": [
    "### organizations"
   ]
  },
  {
   "cell_type": "code",
   "execution_count": 3,
   "metadata": {},
   "outputs": [
    {
     "name": "stdout",
     "output_type": "stream",
     "text": [
      "Data imported successfully!\n"
     ]
    }
   ],
   "source": [
    "import csv\n",
    "from phishing.models import Organizations  # myapp은 앱 이름으로 적절하게 변경해야합니다.\n",
    "\n",
    "def import_data_from_csv():\n",
    "    with open('C:/Users/03123/SKKU_KKKC/bopibopi/rel_orgs.csv', 'r', encoding='utf-8') as csvfile:\n",
    "        reader = csv.DictReader(csvfile)\n",
    "        for row in reader:\n",
    "            Organizations.objects.create(\n",
    "                name=row['name'],\n",
    "                image=row['image'],\n",
    "                call=row['number'],\n",
    "                work=row['work'],\n",
    "                url=row['url'],\n",
    "                category=row['cat']\n",
    "            )\n",
    "        print('Data imported successfully!')\n",
    "\n",
    "if __name__ == \"__main__\":\n",
    "    import_data_from_csv()\n"
   ]
  },
  {
   "cell_type": "markdown",
   "metadata": {},
   "source": [
    "### phone number"
   ]
  },
  {
   "cell_type": "code",
   "execution_count": 16,
   "metadata": {},
   "outputs": [
    {
     "name": "stdout",
     "output_type": "stream",
     "text": [
      "Data imported successfully!\n"
     ]
    }
   ],
   "source": [
    "import csv\n",
    "from phishing.models import Phone_numbers\n",
    "\n",
    "def import_data_from_csv():\n",
    "    \n",
    "    with open('C:/Users/03123/SKKU_KKKC/bopibopi/phone_numbers.csv', 'r', encoding='utf-8') as csvfile:\n",
    "        reader = csv.DictReader(csvfile)\n",
    "        for row in reader:\n",
    "            Phone_numbers.objects.create(\n",
    "                phone_number=row['phone_num'],\n",
    "                count = 0\n",
    "            )\n",
    "        print('Data imported successfully!')\n",
    "\n",
    "if __name__ == \"__main__\":\n",
    "    import_data_from_csv()\n"
   ]
  },
  {
   "cell_type": "code",
   "execution_count": null,
   "metadata": {},
   "outputs": [],
   "source": [
    "# from django.contrib import messages\n",
    "# from django.shortcuts import render, redirect\n",
    "# def import_data_from_csv(request):\n",
    "#     with open('C:/Users/03123/SKKU_KKKC/bopibopi/phone_numbers.csv', 'r', encoding='utf-8') as csvfile:\n",
    "#         reader = csv.DictReader(csvfile)\n",
    "#         total_rows = sum(1 for row in reader)  # 전체 행 개수\n",
    "#         csvfile.seek(0)  # 파일 포인터를 다시 파일의 시작으로 이동\n",
    "#         reader = csv.DictReader(csvfile)  # 다시 읽기\n",
    "#         for i, row in enumerate(reader, start=1):\n",
    "#             Phone_numbers.objects.create(\n",
    "#                 phone_number=row['phone_num'],\n",
    "#                 count=0\n",
    "#             )\n",
    "#             # 전체 행 중 몇 번째 행인지 메시지로 전달\n",
    "#             messages.info(request, f'Processing row {i}/{total_rows}')\n",
    "#         messages.success(request, 'Data imported successfully!')\n",
    "#         return redirect('some_redirect_url')  # 적절한 리다이렉트 URL로 변경"
   ]
  },
  {
   "cell_type": "markdown",
   "metadata": {},
   "source": [
    "### 텍스트 파일"
   ]
  },
  {
   "cell_type": "code",
   "execution_count": 3,
   "metadata": {},
   "outputs": [
    {
     "name": "stdout",
     "output_type": "stream",
     "text": [
      "Data imported successfully!\n"
     ]
    }
   ],
   "source": [
    "import csv\n",
    "from phishing.models import Text_mail\n",
    "\n",
    "def import_data_from_csv():\n",
    "    \n",
    "    with open('C:/Users/03123/SKKU_KKKC/bopibopi/FFinal.csv', 'r', encoding='utf-8') as csvfile:\n",
    "        reader = csv.DictReader(csvfile)\n",
    "        for row in reader:\n",
    "            Text_mail.objects.create(\n",
    "                transcript=row['Transcription'],\n",
    "                filename=row['Filename'],\n",
    "                label=1\n",
    "            )\n",
    "\n",
    "        print('Data imported successfully!')\n",
    "\n",
    "if __name__ == \"__main__\":\n",
    "    import_data_from_csv()"
   ]
  },
  {
   "cell_type": "markdown",
   "metadata": {},
   "source": [
    "### account number"
   ]
  },
  {
   "cell_type": "code",
   "execution_count": 3,
   "metadata": {},
   "outputs": [
    {
     "name": "stdout",
     "output_type": "stream",
     "text": [
      "Data imported successfully!\n"
     ]
    }
   ],
   "source": [
    "import csv\n",
    "from phishing.models import Account_numbers\n",
    "\n",
    "def import_data_from_csv():\n",
    "    \n",
    "    with open('C:/Users/03123/SKKU_KKKC/bopibopi/account_numbers.csv', 'r', encoding='utf-8') as csvfile:\n",
    "        reader = csv.DictReader(csvfile)\n",
    "        for row in reader:\n",
    "            Account_numbers.objects.create(\n",
    "                account_number=row['account_num'],\n",
    "                count = 0\n",
    "            )\n",
    "        print('Data imported successfully!')\n",
    "\n",
    "if __name__ == \"__main__\":\n",
    "    import_data_from_csv()\n"
   ]
  }
 ],
 "metadata": {
  "kernelspec": {
   "display_name": "bopibopi",
   "language": "python",
   "name": "python3"
  },
  "language_info": {
   "codemirror_mode": {
    "name": "ipython",
    "version": 3
   },
   "file_extension": ".py",
   "mimetype": "text/x-python",
   "name": "python",
   "nbconvert_exporter": "python",
   "pygments_lexer": "ipython3",
   "version": "3.11.3"
  }
 },
 "nbformat": 4,
 "nbformat_minor": 2
}
