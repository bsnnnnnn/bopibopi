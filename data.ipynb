{
 "cells": [
  {
   "cell_type": "markdown",
   "metadata": {},
   "source": [
    "### DB 데이터 insert"
   ]
  },
  {
   "cell_type": "code",
   "execution_count": 1,
   "metadata": {},
   "outputs": [],
   "source": [
    "# 환경설정\n",
    "import os, sys\n",
    "# PWD = os.getenv('PWD')\n",
    "PWD = os.path.abspath('.')\n",
    "\n",
    "PROJ_MISSING_MSG = \"\"\"Set an enviroment variable:\\n\n",
    "`DJANGO_PROJECT=your_project_name`\\n\n",
    "or call:\\n\n",
    "`init_django(your_project_name)`\n",
    "\"\"\"\n",
    "\n",
    "def init_django(project_name=None):\n",
    "    os.chdir(PWD)\n",
    "    project_name = project_name or os.environ.get('DJANGO_PROJECT') or None\n",
    "    if project_name == None:\n",
    "        raise Exception(PROJ_MISSING_MSG)\n",
    "    sys.path.insert(0, os.getenv('PWD'))\n",
    "    os.environ.setdefault('DJANGO_SETTINGS_MODULE', f'{project_name}.settings')\n",
    "    os.environ[\"DJANGO_ALLOW_ASYNC_UNSAFE\"] = \"true\"\n",
    "    import django\n",
    "    django.setup()"
   ]
  },
  {
   "cell_type": "code",
   "execution_count": 2,
   "metadata": {},
   "outputs": [],
   "source": [
    "init_django('bopibopi') #project name"
   ]
  },
  {
   "cell_type": "markdown",
   "metadata": {},
   "source": [
    "### organizations"
   ]
  },
  {
   "cell_type": "code",
   "execution_count": 4,
   "metadata": {},
   "outputs": [
    {
     "name": "stdout",
     "output_type": "stream",
     "text": [
      "Data imported successfully!\n"
     ]
    }
   ],
   "source": [
    "import csv\n",
    "from phishing.models import Organizations  # myapp은 앱 이름으로 적절하게 변경해야합니다.\n",
    "\n",
    "def import_data_from_csv():\n",
    "    with open('C:/Users/03123/SKKU_KKKC/bopibopi/rel_orgs.csv', 'r', encoding='utf-8') as csvfile:\n",
    "        reader = csv.DictReader(csvfile)\n",
    "        for row in reader:\n",
    "            Organizations.objects.create(\n",
    "                name=row['name'],\n",
    "                image=row['image'],\n",
    "                call=row['number'],\n",
    "                work=row['work'],\n",
    "                url=row['url'],\n",
    "                category=row['cat']\n",
    "            )\n",
    "        print('Data imported successfully!')\n",
    "\n",
    "if __name__ == \"__main__\":\n",
    "    import_data_from_csv()\n"
   ]
  },
  {
   "cell_type": "markdown",
   "metadata": {},
   "source": [
    "### phone number"
   ]
  },
  {
   "cell_type": "code",
   "execution_count": 7,
   "metadata": {},
   "outputs": [
    {
     "name": "stdout",
     "output_type": "stream",
     "text": [
      "Data imported successfully!\n"
     ]
    }
   ],
   "source": [
    "import csv\n",
    "from phishing.models import Phone_numbers\n",
    "\n",
    "def import_data_from_csv():\n",
    "    \n",
    "    with open('C:/Users/03123/SKKU_KKKC/bopibopi/phone_numbers.csv', 'r', encoding='utf-8') as csvfile:\n",
    "        reader = csv.DictReader(csvfile)\n",
    "        for row in reader:\n",
    "            Phone_numbers.objects.create(\n",
    "                phone_number=row['phone_num'],\n",
    "                search_cnt = 0\n",
    "            )\n",
    "        print('Data imported successfully!')\n",
    "\n",
    "if __name__ == \"__main__\":\n",
    "    import_data_from_csv()\n"
   ]
  },
  {
   "cell_type": "code",
   "execution_count": null,
   "metadata": {},
   "outputs": [],
   "source": [
    "# from django.contrib import messages\n",
    "# from django.shortcuts import render, redirect\n",
    "# def import_data_from_csv(request):\n",
    "#     with open('C:/Users/03123/SKKU_KKKC/bopibopi/phone_numbers.csv', 'r', encoding='utf-8') as csvfile:\n",
    "#         reader = csv.DictReader(csvfile)\n",
    "#         total_rows = sum(1 for row in reader)  # 전체 행 개수\n",
    "#         csvfile.seek(0)  # 파일 포인터를 다시 파일의 시작으로 이동\n",
    "#         reader = csv.DictReader(csvfile)  # 다시 읽기\n",
    "#         for i, row in enumerate(reader, start=1):\n",
    "#             Phone_numbers.objects.create(\n",
    "#                 phone_number=row['phone_num'],\n",
    "#                 count=0\n",
    "#             )\n",
    "#             # 전체 행 중 몇 번째 행인지 메시지로 전달\n",
    "#             messages.info(request, f'Processing row {i}/{total_rows}')\n",
    "#         messages.success(request, 'Data imported successfully!')\n",
    "#         return redirect('some_redirect_url')  # 적절한 리다이렉트 URL로 변경"
   ]
  },
  {
   "cell_type": "markdown",
   "metadata": {},
   "source": [
    "### account number"
   ]
  },
  {
   "cell_type": "code",
   "execution_count": 6,
   "metadata": {},
   "outputs": [
    {
     "name": "stdout",
     "output_type": "stream",
     "text": [
      "Data imported successfully!\n"
     ]
    }
   ],
   "source": [
    "import csv\n",
    "from phishing.models import Account_numbers\n",
    "\n",
    "def import_data_from_csv():\n",
    "    \n",
    "    with open('account_numbers.csv', 'r', encoding='utf-8') as csvfile:\n",
    "        reader = csv.DictReader(csvfile)\n",
    "        for row in reader:\n",
    "            Account_numbers.objects.create(\n",
    "                account_number=row['account_num'],\n",
    "                search_cnt=0\n",
    "            )\n",
    "\n",
    "        print('Data imported successfully!')\n",
    "\n",
    "if __name__ == \"__main__\":\n",
    "    import_data_from_csv()"
   ]
  },
  {
   "cell_type": "code",
   "execution_count": 2,
   "metadata": {},
   "outputs": [],
   "source": [
    "import pandas as pd\n"
   ]
  },
  {
   "cell_type": "code",
   "execution_count": 4,
   "metadata": {},
   "outputs": [
    {
     "data": {
      "text/html": [
       "<div>\n",
       "<style scoped>\n",
       "    .dataframe tbody tr th:only-of-type {\n",
       "        vertical-align: middle;\n",
       "    }\n",
       "\n",
       "    .dataframe tbody tr th {\n",
       "        vertical-align: top;\n",
       "    }\n",
       "\n",
       "    .dataframe thead th {\n",
       "        text-align: right;\n",
       "    }\n",
       "</style>\n",
       "<table border=\"1\" class=\"dataframe\">\n",
       "  <thead>\n",
       "    <tr style=\"text-align: right;\">\n",
       "      <th></th>\n",
       "      <th>label</th>\n",
       "    </tr>\n",
       "    <tr>\n",
       "      <th>message</th>\n",
       "      <th></th>\n",
       "    </tr>\n",
       "  </thead>\n",
       "  <tbody>\n",
       "    <tr>\n",
       "      <th>잠시 심사 채용 통화 인식 본인 이름 명의 도용 피해 사건 연루 여기 확인 차 전화 세 남성 김경식 알 저희 김기현 식 금융 공사 지단 지금 공부 놈 건 재해 현장 지금 명의 지금 농협 은행 지금 하나은행 무리 통장 제정신 불법 통장 사용 걸 저희 현세 지금 당세 압수 지금 본인 두 사나이 교장 결정 대해 아시 내용 제조 본인 명의 자형 군집 확인 오늘 저희 분위기 앞 연락 것 두 계좌 이제 본인 직접 검증 개설 회사 통장 신지 본인 개인정보 유출 명의 내용 피해자 신지 그 이재 뒤 부분 조사 지금 연락 이번 탐구 사건 자체 당대 본인 전국 지금 이제 분 지금 소환 조사 개조 개인 이유 저희 검사 도 검찰청 출석 수 분 위해 장총 저희 이제 개인정보 신고 센터 개설 이점 신기 참고 일단 본인 피해자 가해자 조사</th>\n",
       "      <td>1</td>\n",
       "    </tr>\n",
       "    <tr>\n",
       "      <th>잠시 개시 통화 본인 이름 명의 도용 무례 피해 사건 연루 여기 인물 확인 차 전화 면 당대 세 남성 김경식 여론조사 알 저희 김기현 명명 식 금융 공사 지단 지금 해 자형 사려 공부 건 현장 지금 병기 명의 지금 농협 은행 지금 하나은행 통장 불법 통장 사용 걸 저희 지금 압수 지금 본인 법 대변 시도 두 교장 결정 대해 아시 내용 제조 정상 본인 명의 확인 오늘 저희 분위기 앞 연락 것 두 계좌 이제 접촉 본인 직접 개설 통장 신지 본인 개인정보 현세 유출 명의 내용 피해자 신지 그 부분 조사 지금 연락 이번 사건 자체 본인 전국 지금 이제 분 지금 소환 조사 개인 임 이유 저희 최근 검사 검찰청 출석 수 결정체 분 오늘날 위해 저희 이제 개인정보 도리 신고 센터 개설 이점 참고 일단 본인 피해자 가해자 조사</th>\n",
       "      <td>1</td>\n",
       "    </tr>\n",
       "    <tr>\n",
       "      <th>잠시 통화 본인 이름 기업 명의 도용 피해 사건 연루 여기 쇠똥 확인 차 전화 세 남성 김경식 알 저희 김기현 식 오늘 금융 공사 지단 현생 단락 지금 공부 건 변 현장 지금 명의 지금 농협 은행 지금 하나은행 당대 인식 통장 불법 통장 사용 걸 조세 저희 지금 압수 지금 본인 두 교장 결정 대해 아시 내용 제조 본인 명의 확인 오늘 채용 저희 현생 분위기 앞 연락 것 미터 두 계좌 이제 본인 창업 직접 재 개설 심수 통장 신지 사려 본인 코드 개인정보 유출 검정 명의 내용 피해자 신지 그 부분 조사 지금 연락 이번 판지 사건 자체 본인 전국 지금 이제 분 지금 소환 조사 개인 이유 저희 검사 금세 검찰청 출석 수 이재 분 신청 위해 저희 이제 개인정보 신고 센터 개설 이점 참고 일단 본인 피해자 가해자 조사</th>\n",
       "      <td>1</td>\n",
       "    </tr>\n",
       "    <tr>\n",
       "      <th>물건 주지 방식 사기혐의 이제 통장 자체 판매 인 용도 사용 때문 천연 문제 부분 제 자가 발생 부서 부분 구매 분 안 본인 번 앞 배상 청구 고소 고발 건 일단 저희 이제 본인 명의 통장 개설 중순 거래 사실 확인 발생 부분 이기 때문 본인 만약 피해자 사람 이제 해당 지점 죄 방문 적도 말씀 해 금세 년 패거리 본인 피해자 납부 본인 피해자 거 이제 입점 해 정말 못 때 자연 이제 가해자 분류 본인 명의 통장 대한 배상 대해 본인 이제 배선 책임 등급 부여 지금 농협 어디 은행 신한은행 확인 참석 확인 건가 부분 일단 사건 현장 문병 노선 인지 중도 통장 실제 발견 증거 자료 이기 때문 저희 시 대도시 동결 처리 동결 취지 사원 처리 의미 혹시 알 그 일단 종결 처리 건 의미 출발 면 저희 폐회 수산 입장 때 몇 시 경우 지금 벗 조사 자의 참고 내신 거리 피해자 가해자 이제 구분 뜻 고요 매달 가능성 배제 지금 때문 제 수사 개시 자형 정도 말씀 때 혹시 본인 해당 기사 뭐 이제 해제 안 자금 자체 계좌 방식 증거 자체 은미 운명 시도 언사 수 때문 개인 해당 계좌 대해 조회 이체 해지 짝 것 수 저희 놨다 걸 의미 이제 방금 해당 은행 이제 확인 제 배 일단 동결 처리 부분 편 이기 때문 혼자 가시 확인 검찰 조사 진행 중 이기 때문 함축 해당 지구대 경찰관 일부 분 대동 모양 영업 심사 정보 만물 해 여기 중앙 검 첨단 범죄수사 팀 살 근무 이정환 사관 지금 제 살 관 송곳 친구 경찰서 시간 일 확인 사람 그 다음 저희 명제 쪽 연락 그 싹수 오른쪽 확인 전진 일단 저희 일단 저희 부 사이 방법 말씀 유선 요구 녹취 질문 인 전화 거 일단 일차 순사 이제 단면 얼마나 알 연관 함축 분 파트 번 판단 때문 본인 이제 계좌 확인 연구 위해 그 방법 동정 제 말씀 일단 지금 유선 통한 지금 시판 그 유선 통화 자체 가로 군 부용 거 때문 저희 이제 내림 자택 주소 주민등록 주소지 장교 출석 바르다 연구소 번 드릴 거 이제 추석 연구소 저희 해당 직원 직접 패 출석 가지 대면 명제 조사 요구 부분 진행 도</th>\n",
       "      <td>1</td>\n",
       "    </tr>\n",
       "    <tr>\n",
       "      <th>소총 물건 주지 방식 사기혐의 이제 통장 자체 판매 인 용도 사용 뜻 때문 명제 문제 부분 제 자가 발생 뜻 부분 구매 스타트 분 안 본인 앞 배상 청구 고소 고발 건 전문가 일단 저희 이제 본인 명의 통장 개설 중순 거래 사실 확인 발생 부분 이기 때문 본인 만약 피해자 사람 이제 해당 지점 수색 내 방문 적도 말씀 해 본인 광선 피해자 기관총 납부 본인 때 피해자 거 이제 입점 해 정말 못 때 입증 내림 자연 이제 가해자 분류 본인 명의 분할 통장 대한 배상 대해 본인 이제 배선 책임 부여 사문 지금 농협 어디 사멸 인지 은행 신한은행 확인 기일 수컷 확인 건가 부분 납입 일단 사건 현장 통장 실제 발견 증거 자료 이기 기백 때문 저희 동결 처리 패 동결 처리 의미 혹시 알 그 일단 전진 종결 처리 건 의미 면 저희 수산 입장 응어리 때 몇 시 경우 지금 조사 자의 참고 내신 거리 피해자 가해자 이제 구분 뜻 형기 고요 매달 가능성 배제 지금 때문 짝 고용 제 수사 대변 정도 말씀 때 혹시 본인 장소 해당 인지 기사 뭐 이제 해제 안 말 자금 자체 전진 함축 계좌 방식 증거 자체 은미 호모 운명 시도 수 때문 개인 해당 계좌 대해 조회 이체 해지 것 수 저희 놨다 걸 의미 이제 방금 해당 은행 우익 이제 확인 남동생 제 일단 동결 처리 부분 이기 때문 혼자 가시 확인 검찰 조사 진행 중 이기 때문 해당 지구대 경찰관 분 대동 영업 정보 해 여기 중앙 검 송곳 답사 첨단 범죄수사 팀 근무 개시 짝 이정환 사관 지금 삭제 제 살 관 친구 경찰서 일 확인 그 다음 저희 쪽 일부분 연락 그 오른쪽 확인 일단 저희 일단 활동 저희 방법 말씀 상환 도태 유선 녹취 입담 질문 전화 거 일단 일차 이제 얼마나 송곳 연관 명수 기능 분 판단 때문 본인 이제 계좌 자형 확인 위해 그 내방 방법 제 말씀 날 일단 지금 유선 통한 지금 그 유선 통화 자체 부용 거 때문 저희 이제 자택 주소 명제 주민등록 주소지 출석 연구소 나중 번 주문 드릴 거 이제 추석 천명 뜻 연구소 저희 해당 직원 직접 출석 문 가지 사람 대면 조사 부분 진행 도</th>\n",
       "      <td>1</td>\n",
       "    </tr>\n",
       "    <tr>\n",
       "      <th>...</th>\n",
       "      <td>...</td>\n",
       "    </tr>\n",
       "    <tr>\n",
       "      <th>개의 연락을 시도한 것은 이번이 두 번째입니다 u는 파운드 상금을 받았습니다 번 청구는 쉽습니다 지금 로 전화하세요 분당 p에 불과합니다 bt 전국 환율</th>\n",
       "      <td>1</td>\n",
       "    </tr>\n",
       "    <tr>\n",
       "      <th>집으로 산책로로 갈 예정인가요</th>\n",
       "      <td>0</td>\n",
       "    </tr>\n",
       "    <tr>\n",
       "      <th>안타깝지만 그럴 기분이었어 그럼다른 제안은 없나요</th>\n",
       "      <td>0</td>\n",
       "    </tr>\n",
       "    <tr>\n",
       "      <th>그 사람이 욕을 좀 했는데 다음 주에 다른 걸 사고 싶은 것처럼 행동해서 그 사람이 우리에게 공짜로 줬어요</th>\n",
       "      <td>0</td>\n",
       "    </tr>\n",
       "    <tr>\n",
       "      <th>rofl 그 이름에 충실하다</th>\n",
       "      <td>0</td>\n",
       "    </tr>\n",
       "  </tbody>\n",
       "</table>\n",
       "<p>7428 rows × 1 columns</p>\n",
       "</div>"
      ],
      "text/plain": [
       "                                                    label\n",
       "message                                                  \n",
       "잠시 심사 채용 통화 인식 본인 이름 명의 도용 피해 사건 연루 여기 확인 차 전화 ...      1\n",
       "잠시 개시 통화 본인 이름 명의 도용 무례 피해 사건 연루 여기 인물 확인 차 전화 ...      1\n",
       "잠시 통화 본인 이름 기업 명의 도용 피해 사건 연루 여기 쇠똥 확인 차 전화 세 남...      1\n",
       "물건 주지 방식 사기혐의 이제 통장 자체 판매 인 용도 사용 때문 천연 문제 부분 제...      1\n",
       "소총 물건 주지 방식 사기혐의 이제 통장 자체 판매 인 용도 사용 뜻 때문 명제 문제...      1\n",
       "...                                                   ...\n",
       "개의 연락을 시도한 것은 이번이 두 번째입니다 u는 파운드 상금을 받았습니다 번 청구...      1\n",
       "집으로 산책로로 갈 예정인가요                                        0\n",
       "안타깝지만 그럴 기분이었어 그럼다른 제안은 없나요                             0\n",
       "그 사람이 욕을 좀 했는데 다음 주에 다른 걸 사고 싶은 것처럼 행동해서 그 사람이 ...      0\n",
       "rofl 그 이름에 충실하다                                         0\n",
       "\n",
       "[7428 rows x 1 columns]"
      ]
     },
     "execution_count": 4,
     "metadata": {},
     "output_type": "execute_result"
    }
   ],
   "source": [
    "pd.read_csv('final_combined_binary_labels_data.csv', index_col=0)"
   ]
  },
  {
   "cell_type": "markdown",
   "metadata": {},
   "source": [
    "### text mail"
   ]
  },
  {
   "cell_type": "code",
   "execution_count": 5,
   "metadata": {},
   "outputs": [
    {
     "name": "stderr",
     "output_type": "stream",
     "text": [
      "0it [00:00, ?it/s]\n"
     ]
    },
    {
     "ename": "OperationalError",
     "evalue": "(2013, 'Lost connection to server during query')",
     "output_type": "error",
     "traceback": [
      "\u001b[1;31m---------------------------------------------------------------------------\u001b[0m",
      "\u001b[1;31mOperationalError\u001b[0m                          Traceback (most recent call last)",
      "File \u001b[1;32mc:\\Users\\03123\\anaconda3\\envs\\bopibopi\\Lib\\site-packages\\django\\db\\backends\\utils.py:89\u001b[0m, in \u001b[0;36mCursorWrapper._execute\u001b[1;34m(self, sql, params, *ignored_wrapper_args)\u001b[0m\n\u001b[0;32m     88\u001b[0m \u001b[39melse\u001b[39;00m:\n\u001b[1;32m---> 89\u001b[0m     \u001b[39mreturn\u001b[39;00m \u001b[39mself\u001b[39;49m\u001b[39m.\u001b[39;49mcursor\u001b[39m.\u001b[39;49mexecute(sql, params)\n",
      "File \u001b[1;32mc:\\Users\\03123\\anaconda3\\envs\\bopibopi\\Lib\\site-packages\\django\\db\\backends\\mysql\\base.py:75\u001b[0m, in \u001b[0;36mCursorWrapper.execute\u001b[1;34m(self, query, args)\u001b[0m\n\u001b[0;32m     73\u001b[0m \u001b[39mtry\u001b[39;00m:\n\u001b[0;32m     74\u001b[0m     \u001b[39m# args is None means no string interpolation\u001b[39;00m\n\u001b[1;32m---> 75\u001b[0m     \u001b[39mreturn\u001b[39;00m \u001b[39mself\u001b[39;49m\u001b[39m.\u001b[39;49mcursor\u001b[39m.\u001b[39;49mexecute(query, args)\n\u001b[0;32m     76\u001b[0m \u001b[39mexcept\u001b[39;00m Database\u001b[39m.\u001b[39mOperationalError \u001b[39mas\u001b[39;00m e:\n\u001b[0;32m     77\u001b[0m     \u001b[39m# Map some error codes to IntegrityError, since they seem to be\u001b[39;00m\n\u001b[0;32m     78\u001b[0m     \u001b[39m# misclassified and Django would prefer the more logical place.\u001b[39;00m\n",
      "File \u001b[1;32mc:\\Users\\03123\\anaconda3\\envs\\bopibopi\\Lib\\site-packages\\MySQLdb\\cursors.py:179\u001b[0m, in \u001b[0;36mBaseCursor.execute\u001b[1;34m(self, query, args)\u001b[0m\n\u001b[0;32m    178\u001b[0m \u001b[39massert\u001b[39;00m \u001b[39misinstance\u001b[39m(mogrified_query, (\u001b[39mbytes\u001b[39m, \u001b[39mbytearray\u001b[39m))\n\u001b[1;32m--> 179\u001b[0m res \u001b[39m=\u001b[39m \u001b[39mself\u001b[39;49m\u001b[39m.\u001b[39;49m_query(mogrified_query)\n\u001b[0;32m    180\u001b[0m \u001b[39mreturn\u001b[39;00m res\n",
      "File \u001b[1;32mc:\\Users\\03123\\anaconda3\\envs\\bopibopi\\Lib\\site-packages\\MySQLdb\\cursors.py:330\u001b[0m, in \u001b[0;36mBaseCursor._query\u001b[1;34m(self, q)\u001b[0m\n\u001b[0;32m    329\u001b[0m \u001b[39mself\u001b[39m\u001b[39m.\u001b[39mlastrowid \u001b[39m=\u001b[39m \u001b[39mNone\u001b[39;00m\n\u001b[1;32m--> 330\u001b[0m db\u001b[39m.\u001b[39;49mquery(q)\n\u001b[0;32m    331\u001b[0m \u001b[39mself\u001b[39m\u001b[39m.\u001b[39m_do_get_result(db)\n",
      "File \u001b[1;32mc:\\Users\\03123\\anaconda3\\envs\\bopibopi\\Lib\\site-packages\\MySQLdb\\connections.py:255\u001b[0m, in \u001b[0;36mConnection.query\u001b[1;34m(self, query)\u001b[0m\n\u001b[0;32m    254\u001b[0m     query \u001b[39m=\u001b[39m \u001b[39mbytes\u001b[39m(query)\n\u001b[1;32m--> 255\u001b[0m _mysql\u001b[39m.\u001b[39;49mconnection\u001b[39m.\u001b[39;49mquery(\u001b[39mself\u001b[39;49m, query)\n",
      "\u001b[1;31mOperationalError\u001b[0m: (2013, 'Lost connection to server during query')",
      "\nThe above exception was the direct cause of the following exception:\n",
      "\u001b[1;31mOperationalError\u001b[0m                          Traceback (most recent call last)",
      "\u001b[1;32mc:\\Users\\03123\\SKKU_KKKC\\bopibopi\\data.ipynb 셀 14\u001b[0m line \u001b[0;36m1\n\u001b[0;32m     <a href='vscode-notebook-cell:/c%3A/Users/03123/SKKU_KKKC/bopibopi/data.ipynb#X16sZmlsZQ%3D%3D?line=15'>16</a>\u001b[0m         \u001b[39mprint\u001b[39m(\u001b[39m'\u001b[39m\u001b[39mData imported successfully!\u001b[39m\u001b[39m'\u001b[39m)\n\u001b[0;32m     <a href='vscode-notebook-cell:/c%3A/Users/03123/SKKU_KKKC/bopibopi/data.ipynb#X16sZmlsZQ%3D%3D?line=17'>18</a>\u001b[0m \u001b[39mif\u001b[39;00m \u001b[39m__name__\u001b[39m \u001b[39m==\u001b[39m \u001b[39m\"\u001b[39m\u001b[39m__main__\u001b[39m\u001b[39m\"\u001b[39m:\n\u001b[1;32m---> <a href='vscode-notebook-cell:/c%3A/Users/03123/SKKU_KKKC/bopibopi/data.ipynb#X16sZmlsZQ%3D%3D?line=18'>19</a>\u001b[0m     import_data_from_csv()\n",
      "\u001b[1;32mc:\\Users\\03123\\SKKU_KKKC\\bopibopi\\data.ipynb 셀 14\u001b[0m line \u001b[0;36m1\n\u001b[0;32m      <a href='vscode-notebook-cell:/c%3A/Users/03123/SKKU_KKKC/bopibopi/data.ipynb#X16sZmlsZQ%3D%3D?line=7'>8</a>\u001b[0m reader \u001b[39m=\u001b[39m csv\u001b[39m.\u001b[39mDictReader(csvfile)\n\u001b[0;32m      <a href='vscode-notebook-cell:/c%3A/Users/03123/SKKU_KKKC/bopibopi/data.ipynb#X16sZmlsZQ%3D%3D?line=8'>9</a>\u001b[0m \u001b[39mfor\u001b[39;00m row \u001b[39min\u001b[39;00m tqdm(reader):\n\u001b[1;32m---> <a href='vscode-notebook-cell:/c%3A/Users/03123/SKKU_KKKC/bopibopi/data.ipynb#X16sZmlsZQ%3D%3D?line=9'>10</a>\u001b[0m     Text_mail\u001b[39m.\u001b[39;49mobjects\u001b[39m.\u001b[39;49mcreate(\n\u001b[0;32m     <a href='vscode-notebook-cell:/c%3A/Users/03123/SKKU_KKKC/bopibopi/data.ipynb#X16sZmlsZQ%3D%3D?line=10'>11</a>\u001b[0m         message\u001b[39m=\u001b[39;49mrow[\u001b[39m'\u001b[39;49m\u001b[39mmessage\u001b[39;49m\u001b[39m'\u001b[39;49m],\n\u001b[0;32m     <a href='vscode-notebook-cell:/c%3A/Users/03123/SKKU_KKKC/bopibopi/data.ipynb#X16sZmlsZQ%3D%3D?line=11'>12</a>\u001b[0m         label\u001b[39m=\u001b[39;49mrow[\u001b[39m'\u001b[39;49m\u001b[39mlabel\u001b[39;49m\u001b[39m'\u001b[39;49m],\n\u001b[0;32m     <a href='vscode-notebook-cell:/c%3A/Users/03123/SKKU_KKKC/bopibopi/data.ipynb#X16sZmlsZQ%3D%3D?line=12'>13</a>\u001b[0m         phone_number\u001b[39m=\u001b[39;49mrow[\u001b[39m'\u001b[39;49m\u001b[39mnum\u001b[39;49m\u001b[39m'\u001b[39;49m],\n\u001b[0;32m     <a href='vscode-notebook-cell:/c%3A/Users/03123/SKKU_KKKC/bopibopi/data.ipynb#X16sZmlsZQ%3D%3D?line=13'>14</a>\u001b[0m         message_embedding\u001b[39m=\u001b[39;49mrow[\u001b[39m'\u001b[39;49m\u001b[39mmessage_embedding\u001b[39;49m\u001b[39m'\u001b[39;49m],\n\u001b[0;32m     <a href='vscode-notebook-cell:/c%3A/Users/03123/SKKU_KKKC/bopibopi/data.ipynb#X16sZmlsZQ%3D%3D?line=14'>15</a>\u001b[0m     )\n\u001b[0;32m     <a href='vscode-notebook-cell:/c%3A/Users/03123/SKKU_KKKC/bopibopi/data.ipynb#X16sZmlsZQ%3D%3D?line=15'>16</a>\u001b[0m \u001b[39mprint\u001b[39m(\u001b[39m'\u001b[39m\u001b[39mData imported successfully!\u001b[39m\u001b[39m'\u001b[39m)\n",
      "File \u001b[1;32mc:\\Users\\03123\\anaconda3\\envs\\bopibopi\\Lib\\site-packages\\django\\db\\models\\manager.py:87\u001b[0m, in \u001b[0;36mBaseManager._get_queryset_methods.<locals>.create_method.<locals>.manager_method\u001b[1;34m(self, *args, **kwargs)\u001b[0m\n\u001b[0;32m     85\u001b[0m \u001b[39m@wraps\u001b[39m(method)\n\u001b[0;32m     86\u001b[0m \u001b[39mdef\u001b[39;00m \u001b[39mmanager_method\u001b[39m(\u001b[39mself\u001b[39m, \u001b[39m*\u001b[39margs, \u001b[39m*\u001b[39m\u001b[39m*\u001b[39mkwargs):\n\u001b[1;32m---> 87\u001b[0m     \u001b[39mreturn\u001b[39;00m \u001b[39mgetattr\u001b[39;49m(\u001b[39mself\u001b[39;49m\u001b[39m.\u001b[39;49mget_queryset(), name)(\u001b[39m*\u001b[39;49margs, \u001b[39m*\u001b[39;49m\u001b[39m*\u001b[39;49mkwargs)\n",
      "File \u001b[1;32mc:\\Users\\03123\\anaconda3\\envs\\bopibopi\\Lib\\site-packages\\django\\db\\models\\query.py:658\u001b[0m, in \u001b[0;36mQuerySet.create\u001b[1;34m(self, **kwargs)\u001b[0m\n\u001b[0;32m    656\u001b[0m obj \u001b[39m=\u001b[39m \u001b[39mself\u001b[39m\u001b[39m.\u001b[39mmodel(\u001b[39m*\u001b[39m\u001b[39m*\u001b[39mkwargs)\n\u001b[0;32m    657\u001b[0m \u001b[39mself\u001b[39m\u001b[39m.\u001b[39m_for_write \u001b[39m=\u001b[39m \u001b[39mTrue\u001b[39;00m\n\u001b[1;32m--> 658\u001b[0m obj\u001b[39m.\u001b[39;49msave(force_insert\u001b[39m=\u001b[39;49m\u001b[39mTrue\u001b[39;49;00m, using\u001b[39m=\u001b[39;49m\u001b[39mself\u001b[39;49m\u001b[39m.\u001b[39;49mdb)\n\u001b[0;32m    659\u001b[0m \u001b[39mreturn\u001b[39;00m obj\n",
      "File \u001b[1;32mc:\\Users\\03123\\anaconda3\\envs\\bopibopi\\Lib\\site-packages\\django\\db\\models\\base.py:814\u001b[0m, in \u001b[0;36mModel.save\u001b[1;34m(self, force_insert, force_update, using, update_fields)\u001b[0m\n\u001b[0;32m    811\u001b[0m     \u001b[39mif\u001b[39;00m loaded_fields:\n\u001b[0;32m    812\u001b[0m         update_fields \u001b[39m=\u001b[39m \u001b[39mfrozenset\u001b[39m(loaded_fields)\n\u001b[1;32m--> 814\u001b[0m \u001b[39mself\u001b[39;49m\u001b[39m.\u001b[39;49msave_base(\n\u001b[0;32m    815\u001b[0m     using\u001b[39m=\u001b[39;49musing,\n\u001b[0;32m    816\u001b[0m     force_insert\u001b[39m=\u001b[39;49mforce_insert,\n\u001b[0;32m    817\u001b[0m     force_update\u001b[39m=\u001b[39;49mforce_update,\n\u001b[0;32m    818\u001b[0m     update_fields\u001b[39m=\u001b[39;49mupdate_fields,\n\u001b[0;32m    819\u001b[0m )\n",
      "File \u001b[1;32mc:\\Users\\03123\\anaconda3\\envs\\bopibopi\\Lib\\site-packages\\django\\db\\models\\base.py:877\u001b[0m, in \u001b[0;36mModel.save_base\u001b[1;34m(self, raw, force_insert, force_update, using, update_fields)\u001b[0m\n\u001b[0;32m    875\u001b[0m     \u001b[39mif\u001b[39;00m \u001b[39mnot\u001b[39;00m raw:\n\u001b[0;32m    876\u001b[0m         parent_inserted \u001b[39m=\u001b[39m \u001b[39mself\u001b[39m\u001b[39m.\u001b[39m_save_parents(\u001b[39mcls\u001b[39m, using, update_fields)\n\u001b[1;32m--> 877\u001b[0m     updated \u001b[39m=\u001b[39m \u001b[39mself\u001b[39;49m\u001b[39m.\u001b[39;49m_save_table(\n\u001b[0;32m    878\u001b[0m         raw,\n\u001b[0;32m    879\u001b[0m         \u001b[39mcls\u001b[39;49m,\n\u001b[0;32m    880\u001b[0m         force_insert \u001b[39mor\u001b[39;49;00m parent_inserted,\n\u001b[0;32m    881\u001b[0m         force_update,\n\u001b[0;32m    882\u001b[0m         using,\n\u001b[0;32m    883\u001b[0m         update_fields,\n\u001b[0;32m    884\u001b[0m     )\n\u001b[0;32m    885\u001b[0m \u001b[39m# Store the database on which the object was saved\u001b[39;00m\n\u001b[0;32m    886\u001b[0m \u001b[39mself\u001b[39m\u001b[39m.\u001b[39m_state\u001b[39m.\u001b[39mdb \u001b[39m=\u001b[39m using\n",
      "File \u001b[1;32mc:\\Users\\03123\\anaconda3\\envs\\bopibopi\\Lib\\site-packages\\django\\db\\models\\base.py:1020\u001b[0m, in \u001b[0;36mModel._save_table\u001b[1;34m(self, raw, cls, force_insert, force_update, using, update_fields)\u001b[0m\n\u001b[0;32m   1017\u001b[0m     fields \u001b[39m=\u001b[39m [f \u001b[39mfor\u001b[39;00m f \u001b[39min\u001b[39;00m fields \u001b[39mif\u001b[39;00m f \u001b[39mis\u001b[39;00m \u001b[39mnot\u001b[39;00m meta\u001b[39m.\u001b[39mauto_field]\n\u001b[0;32m   1019\u001b[0m returning_fields \u001b[39m=\u001b[39m meta\u001b[39m.\u001b[39mdb_returning_fields\n\u001b[1;32m-> 1020\u001b[0m results \u001b[39m=\u001b[39m \u001b[39mself\u001b[39;49m\u001b[39m.\u001b[39;49m_do_insert(\n\u001b[0;32m   1021\u001b[0m     \u001b[39mcls\u001b[39;49m\u001b[39m.\u001b[39;49m_base_manager, using, fields, returning_fields, raw\n\u001b[0;32m   1022\u001b[0m )\n\u001b[0;32m   1023\u001b[0m \u001b[39mif\u001b[39;00m results:\n\u001b[0;32m   1024\u001b[0m     \u001b[39mfor\u001b[39;00m value, field \u001b[39min\u001b[39;00m \u001b[39mzip\u001b[39m(results[\u001b[39m0\u001b[39m], returning_fields):\n",
      "File \u001b[1;32mc:\\Users\\03123\\anaconda3\\envs\\bopibopi\\Lib\\site-packages\\django\\db\\models\\base.py:1061\u001b[0m, in \u001b[0;36mModel._do_insert\u001b[1;34m(self, manager, using, fields, returning_fields, raw)\u001b[0m\n\u001b[0;32m   1056\u001b[0m \u001b[39mdef\u001b[39;00m \u001b[39m_do_insert\u001b[39m(\u001b[39mself\u001b[39m, manager, using, fields, returning_fields, raw):\n\u001b[0;32m   1057\u001b[0m \u001b[39m    \u001b[39m\u001b[39m\"\"\"\u001b[39;00m\n\u001b[0;32m   1058\u001b[0m \u001b[39m    Do an INSERT. If returning_fields is defined then this method should\u001b[39;00m\n\u001b[0;32m   1059\u001b[0m \u001b[39m    return the newly created data for the model.\u001b[39;00m\n\u001b[0;32m   1060\u001b[0m \u001b[39m    \"\"\"\u001b[39;00m\n\u001b[1;32m-> 1061\u001b[0m     \u001b[39mreturn\u001b[39;00m manager\u001b[39m.\u001b[39;49m_insert(\n\u001b[0;32m   1062\u001b[0m         [\u001b[39mself\u001b[39;49m],\n\u001b[0;32m   1063\u001b[0m         fields\u001b[39m=\u001b[39;49mfields,\n\u001b[0;32m   1064\u001b[0m         returning_fields\u001b[39m=\u001b[39;49mreturning_fields,\n\u001b[0;32m   1065\u001b[0m         using\u001b[39m=\u001b[39;49musing,\n\u001b[0;32m   1066\u001b[0m         raw\u001b[39m=\u001b[39;49mraw,\n\u001b[0;32m   1067\u001b[0m     )\n",
      "File \u001b[1;32mc:\\Users\\03123\\anaconda3\\envs\\bopibopi\\Lib\\site-packages\\django\\db\\models\\manager.py:87\u001b[0m, in \u001b[0;36mBaseManager._get_queryset_methods.<locals>.create_method.<locals>.manager_method\u001b[1;34m(self, *args, **kwargs)\u001b[0m\n\u001b[0;32m     85\u001b[0m \u001b[39m@wraps\u001b[39m(method)\n\u001b[0;32m     86\u001b[0m \u001b[39mdef\u001b[39;00m \u001b[39mmanager_method\u001b[39m(\u001b[39mself\u001b[39m, \u001b[39m*\u001b[39margs, \u001b[39m*\u001b[39m\u001b[39m*\u001b[39mkwargs):\n\u001b[1;32m---> 87\u001b[0m     \u001b[39mreturn\u001b[39;00m \u001b[39mgetattr\u001b[39;49m(\u001b[39mself\u001b[39;49m\u001b[39m.\u001b[39;49mget_queryset(), name)(\u001b[39m*\u001b[39;49margs, \u001b[39m*\u001b[39;49m\u001b[39m*\u001b[39;49mkwargs)\n",
      "File \u001b[1;32mc:\\Users\\03123\\anaconda3\\envs\\bopibopi\\Lib\\site-packages\\django\\db\\models\\query.py:1805\u001b[0m, in \u001b[0;36mQuerySet._insert\u001b[1;34m(self, objs, fields, returning_fields, raw, using, on_conflict, update_fields, unique_fields)\u001b[0m\n\u001b[0;32m   1798\u001b[0m query \u001b[39m=\u001b[39m sql\u001b[39m.\u001b[39mInsertQuery(\n\u001b[0;32m   1799\u001b[0m     \u001b[39mself\u001b[39m\u001b[39m.\u001b[39mmodel,\n\u001b[0;32m   1800\u001b[0m     on_conflict\u001b[39m=\u001b[39mon_conflict,\n\u001b[0;32m   1801\u001b[0m     update_fields\u001b[39m=\u001b[39mupdate_fields,\n\u001b[0;32m   1802\u001b[0m     unique_fields\u001b[39m=\u001b[39munique_fields,\n\u001b[0;32m   1803\u001b[0m )\n\u001b[0;32m   1804\u001b[0m query\u001b[39m.\u001b[39minsert_values(fields, objs, raw\u001b[39m=\u001b[39mraw)\n\u001b[1;32m-> 1805\u001b[0m \u001b[39mreturn\u001b[39;00m query\u001b[39m.\u001b[39;49mget_compiler(using\u001b[39m=\u001b[39;49musing)\u001b[39m.\u001b[39;49mexecute_sql(returning_fields)\n",
      "File \u001b[1;32mc:\\Users\\03123\\anaconda3\\envs\\bopibopi\\Lib\\site-packages\\django\\db\\models\\sql\\compiler.py:1822\u001b[0m, in \u001b[0;36mSQLInsertCompiler.execute_sql\u001b[1;34m(self, returning_fields)\u001b[0m\n\u001b[0;32m   1820\u001b[0m \u001b[39mwith\u001b[39;00m \u001b[39mself\u001b[39m\u001b[39m.\u001b[39mconnection\u001b[39m.\u001b[39mcursor() \u001b[39mas\u001b[39;00m cursor:\n\u001b[0;32m   1821\u001b[0m     \u001b[39mfor\u001b[39;00m sql, params \u001b[39min\u001b[39;00m \u001b[39mself\u001b[39m\u001b[39m.\u001b[39mas_sql():\n\u001b[1;32m-> 1822\u001b[0m         cursor\u001b[39m.\u001b[39;49mexecute(sql, params)\n\u001b[0;32m   1823\u001b[0m     \u001b[39mif\u001b[39;00m \u001b[39mnot\u001b[39;00m \u001b[39mself\u001b[39m\u001b[39m.\u001b[39mreturning_fields:\n\u001b[0;32m   1824\u001b[0m         \u001b[39mreturn\u001b[39;00m []\n",
      "File \u001b[1;32mc:\\Users\\03123\\anaconda3\\envs\\bopibopi\\Lib\\site-packages\\django\\db\\backends\\utils.py:102\u001b[0m, in \u001b[0;36mCursorDebugWrapper.execute\u001b[1;34m(self, sql, params)\u001b[0m\n\u001b[0;32m    100\u001b[0m \u001b[39mdef\u001b[39;00m \u001b[39mexecute\u001b[39m(\u001b[39mself\u001b[39m, sql, params\u001b[39m=\u001b[39m\u001b[39mNone\u001b[39;00m):\n\u001b[0;32m    101\u001b[0m     \u001b[39mwith\u001b[39;00m \u001b[39mself\u001b[39m\u001b[39m.\u001b[39mdebug_sql(sql, params, use_last_executed_query\u001b[39m=\u001b[39m\u001b[39mTrue\u001b[39;00m):\n\u001b[1;32m--> 102\u001b[0m         \u001b[39mreturn\u001b[39;00m \u001b[39msuper\u001b[39;49m()\u001b[39m.\u001b[39;49mexecute(sql, params)\n",
      "File \u001b[1;32mc:\\Users\\03123\\anaconda3\\envs\\bopibopi\\Lib\\site-packages\\django\\db\\backends\\utils.py:67\u001b[0m, in \u001b[0;36mCursorWrapper.execute\u001b[1;34m(self, sql, params)\u001b[0m\n\u001b[0;32m     66\u001b[0m \u001b[39mdef\u001b[39;00m \u001b[39mexecute\u001b[39m(\u001b[39mself\u001b[39m, sql, params\u001b[39m=\u001b[39m\u001b[39mNone\u001b[39;00m):\n\u001b[1;32m---> 67\u001b[0m     \u001b[39mreturn\u001b[39;00m \u001b[39mself\u001b[39;49m\u001b[39m.\u001b[39;49m_execute_with_wrappers(\n\u001b[0;32m     68\u001b[0m         sql, params, many\u001b[39m=\u001b[39;49m\u001b[39mFalse\u001b[39;49;00m, executor\u001b[39m=\u001b[39;49m\u001b[39mself\u001b[39;49m\u001b[39m.\u001b[39;49m_execute\n\u001b[0;32m     69\u001b[0m     )\n",
      "File \u001b[1;32mc:\\Users\\03123\\anaconda3\\envs\\bopibopi\\Lib\\site-packages\\django\\db\\backends\\utils.py:80\u001b[0m, in \u001b[0;36mCursorWrapper._execute_with_wrappers\u001b[1;34m(self, sql, params, many, executor)\u001b[0m\n\u001b[0;32m     78\u001b[0m \u001b[39mfor\u001b[39;00m wrapper \u001b[39min\u001b[39;00m \u001b[39mreversed\u001b[39m(\u001b[39mself\u001b[39m\u001b[39m.\u001b[39mdb\u001b[39m.\u001b[39mexecute_wrappers):\n\u001b[0;32m     79\u001b[0m     executor \u001b[39m=\u001b[39m functools\u001b[39m.\u001b[39mpartial(wrapper, executor)\n\u001b[1;32m---> 80\u001b[0m \u001b[39mreturn\u001b[39;00m executor(sql, params, many, context)\n",
      "File \u001b[1;32mc:\\Users\\03123\\anaconda3\\envs\\bopibopi\\Lib\\site-packages\\django\\db\\backends\\utils.py:84\u001b[0m, in \u001b[0;36mCursorWrapper._execute\u001b[1;34m(self, sql, params, *ignored_wrapper_args)\u001b[0m\n\u001b[0;32m     82\u001b[0m \u001b[39mdef\u001b[39;00m \u001b[39m_execute\u001b[39m(\u001b[39mself\u001b[39m, sql, params, \u001b[39m*\u001b[39mignored_wrapper_args):\n\u001b[0;32m     83\u001b[0m     \u001b[39mself\u001b[39m\u001b[39m.\u001b[39mdb\u001b[39m.\u001b[39mvalidate_no_broken_transaction()\n\u001b[1;32m---> 84\u001b[0m     \u001b[39mwith\u001b[39;49;00m \u001b[39mself\u001b[39;49m\u001b[39m.\u001b[39;49mdb\u001b[39m.\u001b[39;49mwrap_database_errors:\n\u001b[0;32m     85\u001b[0m         \u001b[39mif\u001b[39;49;00m params \u001b[39mis\u001b[39;49;00m \u001b[39mNone\u001b[39;49;00m:\n\u001b[0;32m     86\u001b[0m             \u001b[39m# params default might be backend specific.\u001b[39;49;00m\n\u001b[0;32m     87\u001b[0m             \u001b[39mreturn\u001b[39;49;00m \u001b[39mself\u001b[39;49m\u001b[39m.\u001b[39;49mcursor\u001b[39m.\u001b[39;49mexecute(sql)\n",
      "File \u001b[1;32mc:\\Users\\03123\\anaconda3\\envs\\bopibopi\\Lib\\site-packages\\django\\db\\utils.py:91\u001b[0m, in \u001b[0;36mDatabaseErrorWrapper.__exit__\u001b[1;34m(self, exc_type, exc_value, traceback)\u001b[0m\n\u001b[0;32m     89\u001b[0m \u001b[39mif\u001b[39;00m dj_exc_type \u001b[39mnot\u001b[39;00m \u001b[39min\u001b[39;00m (DataError, IntegrityError):\n\u001b[0;32m     90\u001b[0m     \u001b[39mself\u001b[39m\u001b[39m.\u001b[39mwrapper\u001b[39m.\u001b[39merrors_occurred \u001b[39m=\u001b[39m \u001b[39mTrue\u001b[39;00m\n\u001b[1;32m---> 91\u001b[0m \u001b[39mraise\u001b[39;00m dj_exc_value\u001b[39m.\u001b[39mwith_traceback(traceback) \u001b[39mfrom\u001b[39;00m \u001b[39mexc_value\u001b[39;00m\n",
      "File \u001b[1;32mc:\\Users\\03123\\anaconda3\\envs\\bopibopi\\Lib\\site-packages\\django\\db\\backends\\utils.py:89\u001b[0m, in \u001b[0;36mCursorWrapper._execute\u001b[1;34m(self, sql, params, *ignored_wrapper_args)\u001b[0m\n\u001b[0;32m     87\u001b[0m     \u001b[39mreturn\u001b[39;00m \u001b[39mself\u001b[39m\u001b[39m.\u001b[39mcursor\u001b[39m.\u001b[39mexecute(sql)\n\u001b[0;32m     88\u001b[0m \u001b[39melse\u001b[39;00m:\n\u001b[1;32m---> 89\u001b[0m     \u001b[39mreturn\u001b[39;00m \u001b[39mself\u001b[39;49m\u001b[39m.\u001b[39;49mcursor\u001b[39m.\u001b[39;49mexecute(sql, params)\n",
      "File \u001b[1;32mc:\\Users\\03123\\anaconda3\\envs\\bopibopi\\Lib\\site-packages\\django\\db\\backends\\mysql\\base.py:75\u001b[0m, in \u001b[0;36mCursorWrapper.execute\u001b[1;34m(self, query, args)\u001b[0m\n\u001b[0;32m     72\u001b[0m \u001b[39mdef\u001b[39;00m \u001b[39mexecute\u001b[39m(\u001b[39mself\u001b[39m, query, args\u001b[39m=\u001b[39m\u001b[39mNone\u001b[39;00m):\n\u001b[0;32m     73\u001b[0m     \u001b[39mtry\u001b[39;00m:\n\u001b[0;32m     74\u001b[0m         \u001b[39m# args is None means no string interpolation\u001b[39;00m\n\u001b[1;32m---> 75\u001b[0m         \u001b[39mreturn\u001b[39;00m \u001b[39mself\u001b[39;49m\u001b[39m.\u001b[39;49mcursor\u001b[39m.\u001b[39;49mexecute(query, args)\n\u001b[0;32m     76\u001b[0m     \u001b[39mexcept\u001b[39;00m Database\u001b[39m.\u001b[39mOperationalError \u001b[39mas\u001b[39;00m e:\n\u001b[0;32m     77\u001b[0m         \u001b[39m# Map some error codes to IntegrityError, since they seem to be\u001b[39;00m\n\u001b[0;32m     78\u001b[0m         \u001b[39m# misclassified and Django would prefer the more logical place.\u001b[39;00m\n\u001b[0;32m     79\u001b[0m         \u001b[39mif\u001b[39;00m e\u001b[39m.\u001b[39margs[\u001b[39m0\u001b[39m] \u001b[39min\u001b[39;00m \u001b[39mself\u001b[39m\u001b[39m.\u001b[39mcodes_for_integrityerror:\n",
      "File \u001b[1;32mc:\\Users\\03123\\anaconda3\\envs\\bopibopi\\Lib\\site-packages\\MySQLdb\\cursors.py:179\u001b[0m, in \u001b[0;36mBaseCursor.execute\u001b[1;34m(self, query, args)\u001b[0m\n\u001b[0;32m    176\u001b[0m mogrified_query \u001b[39m=\u001b[39m \u001b[39mself\u001b[39m\u001b[39m.\u001b[39m_mogrify(query, args)\n\u001b[0;32m    178\u001b[0m \u001b[39massert\u001b[39;00m \u001b[39misinstance\u001b[39m(mogrified_query, (\u001b[39mbytes\u001b[39m, \u001b[39mbytearray\u001b[39m))\n\u001b[1;32m--> 179\u001b[0m res \u001b[39m=\u001b[39m \u001b[39mself\u001b[39;49m\u001b[39m.\u001b[39;49m_query(mogrified_query)\n\u001b[0;32m    180\u001b[0m \u001b[39mreturn\u001b[39;00m res\n",
      "File \u001b[1;32mc:\\Users\\03123\\anaconda3\\envs\\bopibopi\\Lib\\site-packages\\MySQLdb\\cursors.py:330\u001b[0m, in \u001b[0;36mBaseCursor._query\u001b[1;34m(self, q)\u001b[0m\n\u001b[0;32m    328\u001b[0m \u001b[39mself\u001b[39m\u001b[39m.\u001b[39mrowcount \u001b[39m=\u001b[39m \u001b[39mNone\u001b[39;00m\n\u001b[0;32m    329\u001b[0m \u001b[39mself\u001b[39m\u001b[39m.\u001b[39mlastrowid \u001b[39m=\u001b[39m \u001b[39mNone\u001b[39;00m\n\u001b[1;32m--> 330\u001b[0m db\u001b[39m.\u001b[39;49mquery(q)\n\u001b[0;32m    331\u001b[0m \u001b[39mself\u001b[39m\u001b[39m.\u001b[39m_do_get_result(db)\n\u001b[0;32m    332\u001b[0m \u001b[39mself\u001b[39m\u001b[39m.\u001b[39m_post_get_result()\n",
      "File \u001b[1;32mc:\\Users\\03123\\anaconda3\\envs\\bopibopi\\Lib\\site-packages\\MySQLdb\\connections.py:255\u001b[0m, in \u001b[0;36mConnection.query\u001b[1;34m(self, query)\u001b[0m\n\u001b[0;32m    253\u001b[0m \u001b[39mif\u001b[39;00m \u001b[39misinstance\u001b[39m(query, \u001b[39mbytearray\u001b[39m):\n\u001b[0;32m    254\u001b[0m     query \u001b[39m=\u001b[39m \u001b[39mbytes\u001b[39m(query)\n\u001b[1;32m--> 255\u001b[0m _mysql\u001b[39m.\u001b[39;49mconnection\u001b[39m.\u001b[39;49mquery(\u001b[39mself\u001b[39;49m, query)\n",
      "\u001b[1;31mOperationalError\u001b[0m: (2013, 'Lost connection to server during query')"
     ]
    }
   ],
   "source": [
    "import csv\n",
    "from phishing.models import Text_mail\n",
    "from tqdm import tqdm\n",
    "\n",
    "def import_data_from_csv():\n",
    "    \n",
    "    with open('KcBERT_embeddings.csv', 'r', encoding='utf-8') as csvfile:\n",
    "        reader = csv.DictReader(csvfile)\n",
    "        for row in tqdm(reader):\n",
    "            Text_mail.objects.create(\n",
    "                message=row['message'],\n",
    "                label=row['label'],\n",
    "                phone_number=row['num'],\n",
    "                message_embedding=row['message_embedding'],\n",
    "            )\n",
    "        print('Data imported successfully!')\n",
    "\n",
    "if __name__ == \"__main__\":\n",
    "    import_data_from_csv()\n"
   ]
  }
 ],
 "metadata": {
  "kernelspec": {
   "display_name": "bopibopi",
   "language": "python",
   "name": "python3"
  },
  "language_info": {
   "codemirror_mode": {
    "name": "ipython",
    "version": 3
   },
   "file_extension": ".py",
   "mimetype": "text/x-python",
   "name": "python",
   "nbconvert_exporter": "python",
   "pygments_lexer": "ipython3",
   "version": "3.11.3"
  }
 },
 "nbformat": 4,
 "nbformat_minor": 2
}
