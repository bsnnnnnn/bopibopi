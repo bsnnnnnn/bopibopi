{
 "cells": [
  {
   "cell_type": "code",
   "execution_count": 1,
   "metadata": {},
   "outputs": [],
   "source": [
    "import pandas as pd"
   ]
  },
  {
   "cell_type": "code",
   "execution_count": 2,
   "metadata": {},
   "outputs": [
    {
     "data": {
      "text/html": [
       "<div>\n",
       "<style scoped>\n",
       "    .dataframe tbody tr th:only-of-type {\n",
       "        vertical-align: middle;\n",
       "    }\n",
       "\n",
       "    .dataframe tbody tr th {\n",
       "        vertical-align: top;\n",
       "    }\n",
       "\n",
       "    .dataframe thead th {\n",
       "        text-align: right;\n",
       "    }\n",
       "</style>\n",
       "<table border=\"1\" class=\"dataframe\">\n",
       "  <thead>\n",
       "    <tr style=\"text-align: right;\">\n",
       "      <th></th>\n",
       "      <th>message</th>\n",
       "      <th>label</th>\n",
       "    </tr>\n",
       "  </thead>\n",
       "  <tbody>\n",
       "    <tr>\n",
       "      <th>0</th>\n",
       "      <td>잠시 심사 채용 통화 인식 본인 이름 명의 도용 피해 사건 연루 여기 확인 차 전화...</td>\n",
       "      <td>1</td>\n",
       "    </tr>\n",
       "    <tr>\n",
       "      <th>1</th>\n",
       "      <td>잠시 개시 통화 본인 이름 명의 도용 무례 피해 사건 연루 여기 인물 확인 차 전화...</td>\n",
       "      <td>1</td>\n",
       "    </tr>\n",
       "    <tr>\n",
       "      <th>2</th>\n",
       "      <td>잠시 통화 본인 이름 기업 명의 도용 피해 사건 연루 여기 쇠똥 확인 차 전화 세 ...</td>\n",
       "      <td>1</td>\n",
       "    </tr>\n",
       "    <tr>\n",
       "      <th>3</th>\n",
       "      <td>물건 주지 방식 사기혐의 이제 통장 자체 판매 인 용도 사용 때문 천연 문제 부분 ...</td>\n",
       "      <td>1</td>\n",
       "    </tr>\n",
       "    <tr>\n",
       "      <th>4</th>\n",
       "      <td>소총 물건 주지 방식 사기혐의 이제 통장 자체 판매 인 용도 사용 뜻 때문 명제 문...</td>\n",
       "      <td>1</td>\n",
       "    </tr>\n",
       "    <tr>\n",
       "      <th>...</th>\n",
       "      <td>...</td>\n",
       "      <td>...</td>\n",
       "    </tr>\n",
       "    <tr>\n",
       "      <th>7423</th>\n",
       "      <td>개의 연락을 시도한 것은 이번이 두 번째입니다 u는 파운드 상금을 받았습니다 번 청...</td>\n",
       "      <td>1</td>\n",
       "    </tr>\n",
       "    <tr>\n",
       "      <th>7424</th>\n",
       "      <td>집으로 산책로로 갈 예정인가요</td>\n",
       "      <td>0</td>\n",
       "    </tr>\n",
       "    <tr>\n",
       "      <th>7425</th>\n",
       "      <td>안타깝지만 그럴 기분이었어 그럼다른 제안은 없나요</td>\n",
       "      <td>0</td>\n",
       "    </tr>\n",
       "    <tr>\n",
       "      <th>7426</th>\n",
       "      <td>그 사람이 욕을 좀 했는데 다음 주에 다른 걸 사고 싶은 것처럼 행동해서 그 사람이...</td>\n",
       "      <td>0</td>\n",
       "    </tr>\n",
       "    <tr>\n",
       "      <th>7427</th>\n",
       "      <td>rofl 그 이름에 충실하다</td>\n",
       "      <td>0</td>\n",
       "    </tr>\n",
       "  </tbody>\n",
       "</table>\n",
       "<p>7428 rows × 2 columns</p>\n",
       "</div>"
      ],
      "text/plain": [
       "                                                message  label\n",
       "0     잠시 심사 채용 통화 인식 본인 이름 명의 도용 피해 사건 연루 여기 확인 차 전화...      1\n",
       "1     잠시 개시 통화 본인 이름 명의 도용 무례 피해 사건 연루 여기 인물 확인 차 전화...      1\n",
       "2     잠시 통화 본인 이름 기업 명의 도용 피해 사건 연루 여기 쇠똥 확인 차 전화 세 ...      1\n",
       "3     물건 주지 방식 사기혐의 이제 통장 자체 판매 인 용도 사용 때문 천연 문제 부분 ...      1\n",
       "4     소총 물건 주지 방식 사기혐의 이제 통장 자체 판매 인 용도 사용 뜻 때문 명제 문...      1\n",
       "...                                                 ...    ...\n",
       "7423  개의 연락을 시도한 것은 이번이 두 번째입니다 u는 파운드 상금을 받았습니다 번 청...      1\n",
       "7424                                   집으로 산책로로 갈 예정인가요      0\n",
       "7425                        안타깝지만 그럴 기분이었어 그럼다른 제안은 없나요      0\n",
       "7426  그 사람이 욕을 좀 했는데 다음 주에 다른 걸 사고 싶은 것처럼 행동해서 그 사람이...      0\n",
       "7427                                    rofl 그 이름에 충실하다      0\n",
       "\n",
       "[7428 rows x 2 columns]"
      ]
     },
     "execution_count": 2,
     "metadata": {},
     "output_type": "execute_result"
    }
   ],
   "source": [
    "df = pd.read_csv('final_combined_binary_labels_data.csv')\n",
    "df"
   ]
  },
  {
   "cell_type": "code",
   "execution_count": 3,
   "metadata": {},
   "outputs": [
    {
     "data": {
      "text/plain": [
       "message    3\n",
       "label      0\n",
       "dtype: int64"
      ]
     },
     "execution_count": 3,
     "metadata": {},
     "output_type": "execute_result"
    }
   ],
   "source": [
    "df.isnull().sum()"
   ]
  },
  {
   "cell_type": "code",
   "execution_count": 5,
   "metadata": {},
   "outputs": [],
   "source": [
    "df.dropna(inplace=True)"
   ]
  },
  {
   "cell_type": "code",
   "execution_count": 6,
   "metadata": {},
   "outputs": [
    {
     "data": {
      "text/html": [
       "<div>\n",
       "<style scoped>\n",
       "    .dataframe tbody tr th:only-of-type {\n",
       "        vertical-align: middle;\n",
       "    }\n",
       "\n",
       "    .dataframe tbody tr th {\n",
       "        vertical-align: top;\n",
       "    }\n",
       "\n",
       "    .dataframe thead th {\n",
       "        text-align: right;\n",
       "    }\n",
       "</style>\n",
       "<table border=\"1\" class=\"dataframe\">\n",
       "  <thead>\n",
       "    <tr style=\"text-align: right;\">\n",
       "      <th></th>\n",
       "      <th>message</th>\n",
       "      <th>label</th>\n",
       "    </tr>\n",
       "  </thead>\n",
       "  <tbody>\n",
       "    <tr>\n",
       "      <th>0</th>\n",
       "      <td>잠시 심사 채용 통화 인식 본인 이름 명의 도용 피해 사건 연루 여기 확인 차 전화...</td>\n",
       "      <td>1</td>\n",
       "    </tr>\n",
       "    <tr>\n",
       "      <th>1</th>\n",
       "      <td>잠시 개시 통화 본인 이름 명의 도용 무례 피해 사건 연루 여기 인물 확인 차 전화...</td>\n",
       "      <td>1</td>\n",
       "    </tr>\n",
       "    <tr>\n",
       "      <th>2</th>\n",
       "      <td>잠시 통화 본인 이름 기업 명의 도용 피해 사건 연루 여기 쇠똥 확인 차 전화 세 ...</td>\n",
       "      <td>1</td>\n",
       "    </tr>\n",
       "    <tr>\n",
       "      <th>3</th>\n",
       "      <td>물건 주지 방식 사기혐의 이제 통장 자체 판매 인 용도 사용 때문 천연 문제 부분 ...</td>\n",
       "      <td>1</td>\n",
       "    </tr>\n",
       "    <tr>\n",
       "      <th>4</th>\n",
       "      <td>소총 물건 주지 방식 사기혐의 이제 통장 자체 판매 인 용도 사용 뜻 때문 명제 문...</td>\n",
       "      <td>1</td>\n",
       "    </tr>\n",
       "    <tr>\n",
       "      <th>...</th>\n",
       "      <td>...</td>\n",
       "      <td>...</td>\n",
       "    </tr>\n",
       "    <tr>\n",
       "      <th>7423</th>\n",
       "      <td>개의 연락을 시도한 것은 이번이 두 번째입니다 u는 파운드 상금을 받았습니다 번 청...</td>\n",
       "      <td>1</td>\n",
       "    </tr>\n",
       "    <tr>\n",
       "      <th>7424</th>\n",
       "      <td>집으로 산책로로 갈 예정인가요</td>\n",
       "      <td>0</td>\n",
       "    </tr>\n",
       "    <tr>\n",
       "      <th>7425</th>\n",
       "      <td>안타깝지만 그럴 기분이었어 그럼다른 제안은 없나요</td>\n",
       "      <td>0</td>\n",
       "    </tr>\n",
       "    <tr>\n",
       "      <th>7426</th>\n",
       "      <td>그 사람이 욕을 좀 했는데 다음 주에 다른 걸 사고 싶은 것처럼 행동해서 그 사람이...</td>\n",
       "      <td>0</td>\n",
       "    </tr>\n",
       "    <tr>\n",
       "      <th>7427</th>\n",
       "      <td>rofl 그 이름에 충실하다</td>\n",
       "      <td>0</td>\n",
       "    </tr>\n",
       "  </tbody>\n",
       "</table>\n",
       "<p>7425 rows × 2 columns</p>\n",
       "</div>"
      ],
      "text/plain": [
       "                                                message  label\n",
       "0     잠시 심사 채용 통화 인식 본인 이름 명의 도용 피해 사건 연루 여기 확인 차 전화...      1\n",
       "1     잠시 개시 통화 본인 이름 명의 도용 무례 피해 사건 연루 여기 인물 확인 차 전화...      1\n",
       "2     잠시 통화 본인 이름 기업 명의 도용 피해 사건 연루 여기 쇠똥 확인 차 전화 세 ...      1\n",
       "3     물건 주지 방식 사기혐의 이제 통장 자체 판매 인 용도 사용 때문 천연 문제 부분 ...      1\n",
       "4     소총 물건 주지 방식 사기혐의 이제 통장 자체 판매 인 용도 사용 뜻 때문 명제 문...      1\n",
       "...                                                 ...    ...\n",
       "7423  개의 연락을 시도한 것은 이번이 두 번째입니다 u는 파운드 상금을 받았습니다 번 청...      1\n",
       "7424                                   집으로 산책로로 갈 예정인가요      0\n",
       "7425                        안타깝지만 그럴 기분이었어 그럼다른 제안은 없나요      0\n",
       "7426  그 사람이 욕을 좀 했는데 다음 주에 다른 걸 사고 싶은 것처럼 행동해서 그 사람이...      0\n",
       "7427                                    rofl 그 이름에 충실하다      0\n",
       "\n",
       "[7425 rows x 2 columns]"
      ]
     },
     "execution_count": 6,
     "metadata": {},
     "output_type": "execute_result"
    }
   ],
   "source": [
    "df"
   ]
  },
  {
   "cell_type": "code",
   "execution_count": 7,
   "metadata": {},
   "outputs": [],
   "source": [
    "df.to_csv('Final.csv')"
   ]
  }
 ],
 "metadata": {
  "kernelspec": {
   "display_name": "bopibopi",
   "language": "python",
   "name": "python3"
  },
  "language_info": {
   "codemirror_mode": {
    "name": "ipython",
    "version": 3
   },
   "file_extension": ".py",
   "mimetype": "text/x-python",
   "name": "python",
   "nbconvert_exporter": "python",
   "pygments_lexer": "ipython3",
   "version": "3.11.3"
  }
 },
 "nbformat": 4,
 "nbformat_minor": 2
}
