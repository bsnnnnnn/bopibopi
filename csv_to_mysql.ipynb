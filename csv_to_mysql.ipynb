{
 "cells": [
  {
   "cell_type": "markdown",
   "metadata": {},
   "source": [
    "회사 변수명\n",
    "        1. company_id\n",
    "        2. name\n",
    "        3. category\n",
    "        4. description\n",
    "        5. link\n",
    "        6. salary\n",
    "        7. logo\n",
    "        8. location\n",
    "        9. CEO\n",
    "\n"
   ]
  },
  {
   "cell_type": "code",
   "execution_count": 1,
   "metadata": {},
   "outputs": [],
   "source": [
    "import os, sys\n",
    "# PWD = os.getenv('PWD')\n",
    "PWD = os.path.abspath('.')\n",
    "\n",
    "PROJ_MISSING_MSG = \"\"\"Set an enviroment variable:\\n\n",
    "`DJANGO_PROJECT=your_project_name`\\n\n",
    "or call:\\n\n",
    "`init_django(your_project_name)`\n",
    "\"\"\"\n",
    "\n",
    "def init_django(project_name=None):\n",
    "    os.chdir(PWD)\n",
    "    project_name = project_name or os.environ.get('DJANGO_PROJECT') or None\n",
    "    if project_name == None:\n",
    "        raise Exception(PROJ_MISSING_MSG)\n",
    "    sys.path.insert(0, os.getenv('PWD'))\n",
    "    os.environ.setdefault('DJANGO_SETTINGS_MODULE', f'{project_name}.settings')\n",
    "    os.environ[\"DJANGO_ALLOW_ASYNC_UNSAFE\"] = \"true\"\n",
    "    import django\n",
    "    django.setup()"
   ]
  },
  {
   "cell_type": "code",
   "execution_count": 2,
   "metadata": {},
   "outputs": [],
   "source": [
    "init_django('jobconnect') #project name"
   ]
  },
  {
   "cell_type": "code",
   "execution_count": 3,
   "metadata": {},
   "outputs": [
    {
     "ename": "FileNotFoundError",
     "evalue": "[Errno 2] No such file or directory: 'data.csv'",
     "output_type": "error",
     "traceback": [
      "\u001b[1;31m---------------------------------------------------------------------------\u001b[0m",
      "\u001b[1;31mFileNotFoundError\u001b[0m                         Traceback (most recent call last)",
      "\u001b[1;32mc:\\Users\\shont\\github\\workspace\\ai_basics\\10_Web\\jobconnect\\csv_to_mysql.ipynb Cell 4\u001b[0m line \u001b[0;36m2\n\u001b[0;32m     <a href='vscode-notebook-cell:/c%3A/Users/shont/github/workspace/ai_basics/10_Web/jobconnect/csv_to_mysql.ipynb#W3sZmlsZQ%3D%3D?line=17'>18</a>\u001b[0m         \u001b[39mprint\u001b[39m(\u001b[39m'\u001b[39m\u001b[39mData imported successfully!\u001b[39m\u001b[39m'\u001b[39m)\n\u001b[0;32m     <a href='vscode-notebook-cell:/c%3A/Users/shont/github/workspace/ai_basics/10_Web/jobconnect/csv_to_mysql.ipynb#W3sZmlsZQ%3D%3D?line=19'>20</a>\u001b[0m \u001b[39mif\u001b[39;00m \u001b[39m__name__\u001b[39m \u001b[39m==\u001b[39m \u001b[39m\"\u001b[39m\u001b[39m__main__\u001b[39m\u001b[39m\"\u001b[39m:\n\u001b[1;32m---> <a href='vscode-notebook-cell:/c%3A/Users/shont/github/workspace/ai_basics/10_Web/jobconnect/csv_to_mysql.ipynb#W3sZmlsZQ%3D%3D?line=20'>21</a>\u001b[0m     import_data_from_csv()\n",
      "\u001b[1;32mc:\\Users\\shont\\github\\workspace\\ai_basics\\10_Web\\jobconnect\\csv_to_mysql.ipynb Cell 4\u001b[0m line \u001b[0;36m5\n\u001b[0;32m      <a href='vscode-notebook-cell:/c%3A/Users/shont/github/workspace/ai_basics/10_Web/jobconnect/csv_to_mysql.ipynb#W3sZmlsZQ%3D%3D?line=3'>4</a>\u001b[0m \u001b[39mdef\u001b[39;00m \u001b[39mimport_data_from_csv\u001b[39m():\n\u001b[1;32m----> <a href='vscode-notebook-cell:/c%3A/Users/shont/github/workspace/ai_basics/10_Web/jobconnect/csv_to_mysql.ipynb#W3sZmlsZQ%3D%3D?line=4'>5</a>\u001b[0m     \u001b[39mwith\u001b[39;00m \u001b[39mopen\u001b[39;49m(\u001b[39m'\u001b[39;49m\u001b[39mdata.csv\u001b[39;49m\u001b[39m'\u001b[39;49m, \u001b[39m'\u001b[39;49m\u001b[39mr\u001b[39;49m\u001b[39m'\u001b[39;49m, encoding\u001b[39m=\u001b[39;49m\u001b[39m'\u001b[39;49m\u001b[39mutf-8\u001b[39;49m\u001b[39m'\u001b[39;49m) \u001b[39mas\u001b[39;00m csvfile:\n\u001b[0;32m      <a href='vscode-notebook-cell:/c%3A/Users/shont/github/workspace/ai_basics/10_Web/jobconnect/csv_to_mysql.ipynb#W3sZmlsZQ%3D%3D?line=5'>6</a>\u001b[0m         reader \u001b[39m=\u001b[39m csv\u001b[39m.\u001b[39mDictReader(csvfile)\n\u001b[0;32m      <a href='vscode-notebook-cell:/c%3A/Users/shont/github/workspace/ai_basics/10_Web/jobconnect/csv_to_mysql.ipynb#W3sZmlsZQ%3D%3D?line=6'>7</a>\u001b[0m         \u001b[39mfor\u001b[39;00m row \u001b[39min\u001b[39;00m reader:\n",
      "File \u001b[1;32mc:\\Users\\shont\\miniconda3\\envs\\py39_django\\lib\\site-packages\\IPython\\core\\interactiveshell.py:286\u001b[0m, in \u001b[0;36m_modified_open\u001b[1;34m(file, *args, **kwargs)\u001b[0m\n\u001b[0;32m    279\u001b[0m \u001b[39mif\u001b[39;00m file \u001b[39min\u001b[39;00m {\u001b[39m0\u001b[39m, \u001b[39m1\u001b[39m, \u001b[39m2\u001b[39m}:\n\u001b[0;32m    280\u001b[0m     \u001b[39mraise\u001b[39;00m \u001b[39mValueError\u001b[39;00m(\n\u001b[0;32m    281\u001b[0m         \u001b[39mf\u001b[39m\u001b[39m\"\u001b[39m\u001b[39mIPython won\u001b[39m\u001b[39m'\u001b[39m\u001b[39mt let you open fd=\u001b[39m\u001b[39m{\u001b[39;00mfile\u001b[39m}\u001b[39;00m\u001b[39m by default \u001b[39m\u001b[39m\"\u001b[39m\n\u001b[0;32m    282\u001b[0m         \u001b[39m\"\u001b[39m\u001b[39mas it is likely to crash IPython. If you know what you are doing, \u001b[39m\u001b[39m\"\u001b[39m\n\u001b[0;32m    283\u001b[0m         \u001b[39m\"\u001b[39m\u001b[39myou can use builtins\u001b[39m\u001b[39m'\u001b[39m\u001b[39m open.\u001b[39m\u001b[39m\"\u001b[39m\n\u001b[0;32m    284\u001b[0m     )\n\u001b[1;32m--> 286\u001b[0m \u001b[39mreturn\u001b[39;00m io_open(file, \u001b[39m*\u001b[39margs, \u001b[39m*\u001b[39m\u001b[39m*\u001b[39mkwargs)\n",
      "\u001b[1;31mFileNotFoundError\u001b[0m: [Errno 2] No such file or directory: 'data.csv'"
     ]
    }
   ],
   "source": [
    "import csv\n",
    "from board.models import Board  # myapp은 앱 이름으로 적절하게 변경해야합니다.\n",
    "\n",
    "def import_data_from_csv():\n",
    "    with open('etc/data.csv', 'r', encoding='utf-8') as csvfile:\n",
    "        reader = csv.DictReader(csvfile)\n",
    "        for row in reader:\n",
    "            Board.objects.create(\n",
    "                name=row['name'],\n",
    "                category=row['category'],\n",
    "                description=row['description'],\n",
    "                link=row['link'],\n",
    "                salary= None,\n",
    "                logo= None,\n",
    "                location=row['location'],\n",
    "                ceo=row['ceo']\n",
    "            )\n",
    "        print('Data imported successfully!')\n",
    "\n",
    "if __name__ == \"__main__\":\n",
    "    import_data_from_csv()\n"
   ]
  },
  {
   "cell_type": "markdown",
   "metadata": {},
   "source": [
    "코멘트 변수명\n",
    "        1. job_category\n",
    "        2. loacation\n",
    "        3. status\n",
    "        4. created_at \n",
    "        5. title\n",
    "        6. content_pros\n",
    "        7. content_cons\n",
    "        8. content_hope\n",
    "        9. star\n",
    "        10. star_1\n",
    "        11. star_2\n",
    "        12. star_3\n",
    "        13. star_4\n",
    "        14. star_5"
   ]
  },
  {
   "cell_type": "code",
   "execution_count": 4,
   "metadata": {},
   "outputs": [
    {
     "ename": "FileNotFoundError",
     "evalue": "[Errno 2] No such file or directory: 'comment.csv'",
     "output_type": "error",
     "traceback": [
      "\u001b[0;31m---------------------------------------------------------------------------\u001b[0m",
      "\u001b[0;31mFileNotFoundError\u001b[0m                         Traceback (most recent call last)",
      "\u001b[1;32m/Users/sh/github/workspace/ai_basics/10_Web/jobconnect/csv_to_mysql.ipynb Cell 5\u001b[0m line \u001b[0;36m2\n\u001b[1;32m     <a href='vscode-notebook-cell:/Users/sh/github/workspace/ai_basics/10_Web/jobconnect/csv_to_mysql.ipynb#W4sZmlsZQ%3D%3D?line=23'>24</a>\u001b[0m         \u001b[39mprint\u001b[39m(\u001b[39m'\u001b[39m\u001b[39mComment data imported successfully!\u001b[39m\u001b[39m'\u001b[39m)\n\u001b[1;32m     <a href='vscode-notebook-cell:/Users/sh/github/workspace/ai_basics/10_Web/jobconnect/csv_to_mysql.ipynb#W4sZmlsZQ%3D%3D?line=25'>26</a>\u001b[0m \u001b[39mif\u001b[39;00m \u001b[39m__name__\u001b[39m \u001b[39m==\u001b[39m \u001b[39m\"\u001b[39m\u001b[39m__main__\u001b[39m\u001b[39m\"\u001b[39m:\n\u001b[0;32m---> <a href='vscode-notebook-cell:/Users/sh/github/workspace/ai_basics/10_Web/jobconnect/csv_to_mysql.ipynb#W4sZmlsZQ%3D%3D?line=26'>27</a>\u001b[0m     import_comment_data_from_csv()\n",
      "\u001b[1;32m/Users/sh/github/workspace/ai_basics/10_Web/jobconnect/csv_to_mysql.ipynb Cell 5\u001b[0m line \u001b[0;36m5\n\u001b[1;32m      <a href='vscode-notebook-cell:/Users/sh/github/workspace/ai_basics/10_Web/jobconnect/csv_to_mysql.ipynb#W4sZmlsZQ%3D%3D?line=3'>4</a>\u001b[0m \u001b[39mdef\u001b[39;00m \u001b[39mimport_comment_data_from_csv\u001b[39m():\n\u001b[0;32m----> <a href='vscode-notebook-cell:/Users/sh/github/workspace/ai_basics/10_Web/jobconnect/csv_to_mysql.ipynb#W4sZmlsZQ%3D%3D?line=4'>5</a>\u001b[0m     \u001b[39mwith\u001b[39;00m \u001b[39mopen\u001b[39;49m(\u001b[39m'\u001b[39;49m\u001b[39mcomment.csv\u001b[39;49m\u001b[39m'\u001b[39;49m, \u001b[39m'\u001b[39;49m\u001b[39mr\u001b[39;49m\u001b[39m'\u001b[39;49m, encoding\u001b[39m=\u001b[39;49m\u001b[39m'\u001b[39;49m\u001b[39mutf-8\u001b[39;49m\u001b[39m'\u001b[39;49m) \u001b[39mas\u001b[39;00m csvfile:\n\u001b[1;32m      <a href='vscode-notebook-cell:/Users/sh/github/workspace/ai_basics/10_Web/jobconnect/csv_to_mysql.ipynb#W4sZmlsZQ%3D%3D?line=5'>6</a>\u001b[0m         reader \u001b[39m=\u001b[39m csv\u001b[39m.\u001b[39mDictReader(csvfile)\n\u001b[1;32m      <a href='vscode-notebook-cell:/Users/sh/github/workspace/ai_basics/10_Web/jobconnect/csv_to_mysql.ipynb#W4sZmlsZQ%3D%3D?line=6'>7</a>\u001b[0m         \u001b[39mfor\u001b[39;00m row \u001b[39min\u001b[39;00m reader:\n",
      "File \u001b[0;32m~/anaconda3/envs/py39_django/lib/python3.9/site-packages/IPython/core/interactiveshell.py:286\u001b[0m, in \u001b[0;36m_modified_open\u001b[0;34m(file, *args, **kwargs)\u001b[0m\n\u001b[1;32m    279\u001b[0m \u001b[39mif\u001b[39;00m file \u001b[39min\u001b[39;00m {\u001b[39m0\u001b[39m, \u001b[39m1\u001b[39m, \u001b[39m2\u001b[39m}:\n\u001b[1;32m    280\u001b[0m     \u001b[39mraise\u001b[39;00m \u001b[39mValueError\u001b[39;00m(\n\u001b[1;32m    281\u001b[0m         \u001b[39mf\u001b[39m\u001b[39m\"\u001b[39m\u001b[39mIPython won\u001b[39m\u001b[39m'\u001b[39m\u001b[39mt let you open fd=\u001b[39m\u001b[39m{\u001b[39;00mfile\u001b[39m}\u001b[39;00m\u001b[39m by default \u001b[39m\u001b[39m\"\u001b[39m\n\u001b[1;32m    282\u001b[0m         \u001b[39m\"\u001b[39m\u001b[39mas it is likely to crash IPython. If you know what you are doing, \u001b[39m\u001b[39m\"\u001b[39m\n\u001b[1;32m    283\u001b[0m         \u001b[39m\"\u001b[39m\u001b[39myou can use builtins\u001b[39m\u001b[39m'\u001b[39m\u001b[39m open.\u001b[39m\u001b[39m\"\u001b[39m\n\u001b[1;32m    284\u001b[0m     )\n\u001b[0;32m--> 286\u001b[0m \u001b[39mreturn\u001b[39;00m io_open(file, \u001b[39m*\u001b[39;49margs, \u001b[39m*\u001b[39;49m\u001b[39m*\u001b[39;49mkwargs)\n",
      "\u001b[0;31mFileNotFoundError\u001b[0m: [Errno 2] No such file or directory: 'comment.csv'"
     ]
    }
   ],
   "source": [
    "import csv\n",
    "from board.models import Comment \n",
    "\n",
    "def import_comment_data_from_csv():\n",
    "    with open('comment.csv', 'r', encoding='utf-8') as csvfile:\n",
    "        reader = csv.DictReader(csvfile)\n",
    "        for row in reader:\n",
    "            Comment.objects.create(\n",
    "                job_category=row['job_category'],\n",
    "                location=row['location'],\n",
    "                status=row['status'].lower() in ['true', '1', 'yes'],  \n",
    "                is_delete=row['is_delete'].lower() in ['true', '1', 'yes'],  \n",
    "                title=row['title'],\n",
    "                content_pros=row['content_pros'],\n",
    "                content_cons=row['content_cons'],\n",
    "                content_hope=row['content_hope'],\n",
    "                star=int(row['star']),\n",
    "                star_1=int(row['star_1']),\n",
    "                star_2=int(row['star_2']),\n",
    "                star_3=int(row['star_3']),\n",
    "                star_4=int(row['star_4']),\n",
    "                star_5=int(row['star_5'])\n",
    "            )\n",
    "        print('Comment data imported successfully!')\n",
    "\n",
    "if __name__ == \"__main__\":\n",
    "    import_comment_data_from_csv()\n"
   ]
  },
  {
   "cell_type": "code",
   "execution_count": 4,
   "metadata": {},
   "outputs": [
    {
     "data": {
      "text/plain": [
       "<Board: Board object (1)>"
      ]
     },
     "execution_count": 4,
     "metadata": {},
     "output_type": "execute_result"
    }
   ],
   "source": [
    "from board.models import Board \n",
    "Board.objects.create(\n",
    "                name='회사1',\n",
    "                category='직종1',\n",
    "                description='설명1',\n",
    "                link='링크1',\n",
    "                salary='연봉1',\n",
    "                logo='로고1',\n",
    "                location='위치1',\n",
    "                ceo='대표1',\n",
    "            )"
   ]
  }
 ],
 "metadata": {
  "kernelspec": {
   "display_name": "skkuai",
   "language": "python",
   "name": "python3"
  },
  "language_info": {
   "codemirror_mode": {
    "name": "ipython",
    "version": 3
   },
   "file_extension": ".py",
   "mimetype": "text/x-python",
   "name": "python",
   "nbconvert_exporter": "python",
   "pygments_lexer": "ipython3",
   "version": "3.11.3"
  },
  "orig_nbformat": 4
 },
 "nbformat": 4,
 "nbformat_minor": 2
}
